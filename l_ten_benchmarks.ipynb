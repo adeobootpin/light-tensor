{
  "nbformat": 4,
  "nbformat_minor": 0,
  "metadata": {
    "colab": {
      "name": "l-ten-benchmarks.ipynb",
      "provenance": [],
      "collapsed_sections": [],
      "authorship_tag": "ABX9TyPL/zXcwfbpBdzQ5hrRLonh",
      "include_colab_link": true
    },
    "kernelspec": {
      "name": "python3",
      "display_name": "Python 3"
    },
    "language_info": {
      "name": "python"
    }
  },
  "cells": [
    {
      "cell_type": "markdown",
      "metadata": {
        "id": "view-in-github",
        "colab_type": "text"
      },
      "source": [
        "<a href=\"https://colab.research.google.com/github/adeobootpin/light-tensor/blob/main/l_ten_benchmarks.ipynb\" target=\"_parent\"><img src=\"https://colab.research.google.com/assets/colab-badge.svg\" alt=\"Open In Colab\"/></a>"
      ]
    },
    {
      "cell_type": "markdown",
      "metadata": {
        "id": "58yvoYji2-VJ"
      },
      "source": [
        "Clone light-tensor repository."
      ]
    },
    {
      "cell_type": "code",
      "metadata": {
        "id": "CE3oiyRjNHbk"
      },
      "source": [
        "!git clone https://github.com/adeobootpin/light-tensor.git\n"
      ],
      "execution_count": null,
      "outputs": []
    },
    {
      "cell_type": "markdown",
      "metadata": {
        "id": "EXao3Qng4KEJ"
      },
      "source": [
        "Download MNIST data set. This will be used for training neural networks."
      ]
    },
    {
      "cell_type": "code",
      "metadata": {
        "id": "viTV5cfGNOM5"
      },
      "source": [
        "!wget https://data.deepai.org/mnist.zip\n",
        "!unzip /content/mnist.zip\n",
        "!gunzip /content/train-images-idx3-ubyte.gz\n",
        "!gunzip /content/train-labels-idx1-ubyte.gz\n",
        "!gunzip /content/t10k-images-idx3-ubyte.gz\n",
        "!gunzip /content/t10k-labels-idx1-ubyte.gz"
      ],
      "execution_count": null,
      "outputs": []
    },
    {
      "cell_type": "markdown",
      "metadata": {
        "id": "ufCEO6ThEplW"
      },
      "source": [
        "Download Google speech command data set (already pre-processed and converted to spectrograms). This will be used for training neural networks."
      ]
    },
    {
      "cell_type": "code",
      "metadata": {
        "id": "L4z-wP2QEwM6"
      },
      "source": [
        "!wget https://speechcommands.s3-us-west-2.amazonaws.com/speech_commands.zip\n",
        "!unzip -q /content/speech_commands.zip"
      ],
      "execution_count": null,
      "outputs": []
    },
    {
      "cell_type": "markdown",
      "metadata": {
        "id": "GKWQftHUFnrw"
      },
      "source": [
        "Download libtorch library."
      ]
    },
    {
      "cell_type": "code",
      "metadata": {
        "id": "et8VHq2RFlmO"
      },
      "source": [
        "!wget https://download.pytorch.org/libtorch/cu102/libtorch-shared-with-deps-1.8.0.zip\n",
        "!unzip -q /content/libtorch-shared-with-deps-1.8.0.zip"
      ],
      "execution_count": null,
      "outputs": []
    },
    {
      "cell_type": "markdown",
      "metadata": {
        "id": "vfo5kAaMGGOv"
      },
      "source": [
        "Add libtorch library to library search path."
      ]
    },
    {
      "cell_type": "code",
      "metadata": {
        "id": "nNwtGQiBGEfq"
      },
      "source": [
        "%env LD_LIBRARY_PATH=/content/libtorch/lib"
      ],
      "execution_count": null,
      "outputs": []
    },
    {
      "cell_type": "markdown",
      "metadata": {
        "id": "d2q53r3K5HyY"
      },
      "source": [
        "Change directory to light-tensor folder."
      ]
    },
    {
      "cell_type": "code",
      "metadata": {
        "id": "dhBRAOi-NRoa"
      },
      "source": [
        "%cd light-tensor/"
      ],
      "execution_count": null,
      "outputs": []
    },
    {
      "cell_type": "markdown",
      "metadata": {
        "id": "jjDDC-PG5Nqy"
      },
      "source": [
        "Build the light-tensor library and benchmarks."
      ]
    },
    {
      "cell_type": "code",
      "metadata": {
        "id": "kBMhip1dNU3R"
      },
      "source": [
        "!make benchmarks"
      ],
      "execution_count": null,
      "outputs": []
    },
    {
      "cell_type": "markdown",
      "metadata": {
        "id": "7lN2ifh85dLX"
      },
      "source": [
        "Run MNIST benchmarks (libtorch vs light-tensor). Remember to ensure that your notebook runtime type is set to \"GPU\".\n"
      ]
    },
    {
      "cell_type": "code",
      "metadata": {
        "id": "JQppHU0hNWxg"
      },
      "source": [
        "!./benchmark-mnist /content/train-images-idx3-ubyte /content/train-labels-idx1-ubyte /content/t10k-images-idx3-ubyte /content/t10k-labels-idx1-ubyte 20"
      ],
      "execution_count": null,
      "outputs": []
    },
    {
      "cell_type": "markdown",
      "metadata": {
        "id": "NczYPHcOGcCe"
      },
      "source": [
        "Run speech commands benchmarks (libtorch vs light-tensor). Remember to ensure that your notebook runtime type is set to \"GPU\"."
      ]
    },
    {
      "cell_type": "code",
      "metadata": {
        "id": "YFO7SjGcGwej"
      },
      "source": [
        "!./benchmark-speech-cmds /content/speech_commands/training_list.txt /content/speech_commands/testing_list.txt /content/speech_commands/ /content/speech_commands/ 30"
      ],
      "execution_count": null,
      "outputs": []
    }
  ]
}