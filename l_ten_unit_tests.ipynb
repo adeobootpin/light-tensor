{
  "nbformat": 4,
  "nbformat_minor": 0,
  "metadata": {
    "colab": {
      "name": "l-ten-unit_tests.ipynb",
      "provenance": [],
      "collapsed_sections": [],
      "authorship_tag": "ABX9TyO0fxk1y683Wh3+gjSnKIcG",
      "include_colab_link": true
    },
    "kernelspec": {
      "name": "python3",
      "display_name": "Python 3"
    },
    "language_info": {
      "name": "python"
    }
  },
  "cells": [
    {
      "cell_type": "markdown",
      "metadata": {
        "id": "view-in-github",
        "colab_type": "text"
      },
      "source": [
        "<a href=\"https://colab.research.google.com/github/adeobootpin/light-tensor/blob/main/l_ten_unit_tests.ipynb\" target=\"_parent\"><img src=\"https://colab.research.google.com/assets/colab-badge.svg\" alt=\"Open In Colab\"/></a>"
      ]
    },
    {
      "cell_type": "markdown",
      "metadata": {
        "id": "58yvoYji2-VJ"
      },
      "source": [
        "Clone light-tensor repository."
      ]
    },
    {
      "cell_type": "code",
      "metadata": {
        "id": "CE3oiyRjNHbk"
      },
      "source": [
        "!git clone https://github.com/adeobootpin/light-tensor.git\n"
      ],
      "execution_count": null,
      "outputs": []
    },
    {
      "cell_type": "markdown",
      "metadata": {
        "id": "EXao3Qng4KEJ"
      },
      "source": [
        "Download MNIST data set. This will be used for training neural networks."
      ]
    },
    {
      "cell_type": "code",
      "metadata": {
        "id": "viTV5cfGNOM5"
      },
      "source": [
        "!wget https://data.deepai.org/mnist.zip\n",
        "!unzip /content/mnist.zip\n",
        "!gunzip /content/train-images-idx3-ubyte.gz\n",
        "!gunzip /content/train-labels-idx1-ubyte.gz\n",
        "!gunzip /content/t10k-images-idx3-ubyte.gz\n",
        "!gunzip /content/t10k-labels-idx1-ubyte.gz"
      ],
      "execution_count": null,
      "outputs": []
    },
    {
      "cell_type": "markdown",
      "metadata": {
        "id": "d2q53r3K5HyY"
      },
      "source": [
        "Change directory to light-tensor folder."
      ]
    },
    {
      "cell_type": "code",
      "metadata": {
        "id": "dhBRAOi-NRoa",
        "colab": {
          "base_uri": "https://localhost:8080/"
        },
        "outputId": "258b0b4a-c122-450e-bd53-a6efc1e8efe2"
      },
      "source": [
        "%cd light-tensor/"
      ],
      "execution_count": null,
      "outputs": [
        {
          "output_type": "stream",
          "text": [
            "/content/light-tensor\n"
          ],
          "name": "stdout"
        }
      ]
    },
    {
      "cell_type": "markdown",
      "metadata": {
        "id": "jjDDC-PG5Nqy"
      },
      "source": [
        "Build the light-tensor library and unit tests."
      ]
    },
    {
      "cell_type": "code",
      "metadata": {
        "id": "kBMhip1dNU3R"
      },
      "source": [
        "!make unit-tests"
      ],
      "execution_count": null,
      "outputs": []
    },
    {
      "cell_type": "markdown",
      "metadata": {
        "id": "7lN2ifh85dLX"
      },
      "source": [
        "Run CPU unit tests.\n"
      ]
    },
    {
      "cell_type": "code",
      "metadata": {
        "id": "JQppHU0hNWxg"
      },
      "source": [
        "!./test /content/train-images-idx3-ubyte /content/train-labels-idx1-ubyte /content/t10k-images-idx3-ubyte /content/t10k-labels-idx1-ubyte -cpu"
      ],
      "execution_count": null,
      "outputs": []
    },
    {
      "cell_type": "markdown",
      "metadata": {
        "id": "Aiy_-QY75p8o"
      },
      "source": [
        "Run GPU unit tests.  Remember to ensure that your notebook runtime type is set to \"GPU\"."
      ]
    },
    {
      "cell_type": "code",
      "metadata": {
        "id": "eGIqxR2JNa4R"
      },
      "source": [
        "!./test /content/train-images-idx3-ubyte /content/train-labels-idx1-ubyte /content/t10k-images-idx3-ubyte /content/t10k-labels-idx1-ubyte -gpu"
      ],
      "execution_count": null,
      "outputs": []
    }
  ]
}