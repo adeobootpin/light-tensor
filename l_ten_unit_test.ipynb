{
  "nbformat": 4,
  "nbformat_minor": 0,
  "metadata": {
    "colab": {
      "name": "l-ten_unit_test.ipynb",
      "provenance": [],
      "collapsed_sections": [],
      "mount_file_id": "1IaCnNqV8m58uGBqW9KSij61eAydVZC4C",
      "authorship_tag": "ABX9TyOhAILekqSRIv9GGTs43M84",
      "include_colab_link": true
    },
    "kernelspec": {
      "display_name": "Python 3",
      "name": "python3"
    }
  },
  "cells": [
    {
      "cell_type": "markdown",
      "metadata": {
        "id": "view-in-github",
        "colab_type": "text"
      },
      "source": [
        "<a href=\"https://colab.research.google.com/github/adeobootpin/light-tensor/blob/add-license-1/l_ten_unit_test.ipynb\" target=\"_parent\"><img src=\"https://colab.research.google.com/assets/colab-badge.svg\" alt=\"Open In Colab\"/></a>"
      ]
    },
    {
      "cell_type": "code",
      "metadata": {
        "id": "JtZ2oCOJWY8h"
      },
      "source": [
        "!git clone https://github.com/adeobootpin/test.git"
      ],
      "execution_count": null,
      "outputs": []
    },
    {
      "cell_type": "code",
      "metadata": {
        "id": "3F6q_ZYwDDIB"
      },
      "source": [
        "!wget http://yann.lecun.com/exdb/mnist/train-images-idx3-ubyte.gz\n",
        "!wget http://yann.lecun.com/exdb/mnist/train-labels-idx1-ubyte.gz\n",
        "!wget http://yann.lecun.com/exdb/mnist/t10k-images-idx3-ubyte.gz\n",
        "!wget http://yann.lecun.com/exdb/mnist/t10k-labels-idx1-ubyte.gz\n",
        "\n",
        "!gunzip /content/train-images-idx3-ubyte.gz\n",
        "!gunzip /content/train-labels-idx1-ubyte.gz\n",
        "!gunzip /content/t10k-images-idx3-ubyte.gz\n",
        "!gunzip /content/t10k-labels-idx1-ubyte.gz\n",
        "\n"
      ],
      "execution_count": null,
      "outputs": []
    },
    {
      "cell_type": "code",
      "metadata": {
        "id": "ZMs4YMkq2-rs"
      },
      "source": [
        "!wget https://data.deepai.org/mnist.zip\n",
        "!unzip /content/mnist.zip\n",
        "!gunzip /content/train-images-idx3-ubyte.gz\n",
        "!gunzip /content/train-labels-idx1-ubyte.gz\n",
        "!gunzip /content/t10k-images-idx3-ubyte.gz\n",
        "!gunzip /content/t10k-labels-idx1-ubyte.gz"
      ],
      "execution_count": null,
      "outputs": []
    },
    {
      "cell_type": "code",
      "metadata": {
        "id": "ge2XmUq3fFeD"
      },
      "source": [
        "!wget https://speechcommands.s3-us-west-2.amazonaws.com/speech_commands.zip\n",
        "!unzip -q /content/speech_commands.zip"
      ],
      "execution_count": null,
      "outputs": []
    },
    {
      "cell_type": "code",
      "metadata": {
        "id": "Ak9STZby2uG-",
        "colab": {
          "base_uri": "https://localhost:8080/"
        },
        "outputId": "f9626e77-c9ec-477c-e38c-34d4fce01999"
      },
      "source": [
        "!wget https://download.pytorch.org/libtorch/cu102/libtorch-shared-with-deps-1.8.0.zip\n",
        "!unzip -q /content/libtorch-shared-with-deps-1.8.0.zip\n",
        "#!tar -xvf \"/content/cudnn-10.1-linux-x64-v7.6.4.38.tgz\""
      ],
      "execution_count": null,
      "outputs": [
        {
          "output_type": "stream",
          "text": [
            "--2021-03-18 15:31:31--  https://download.pytorch.org/libtorch/cu102/libtorch-shared-with-deps-1.8.0.zip\n",
            "Resolving download.pytorch.org (download.pytorch.org)... 99.86.33.48, 99.86.33.64, 99.86.33.56, ...\n",
            "Connecting to download.pytorch.org (download.pytorch.org)|99.86.33.48|:443... connected.\n",
            "HTTP request sent, awaiting response... 200 OK\n",
            "Length: 840313163 (801M) [application/zip]\n",
            "Saving to: ‘libtorch-shared-with-deps-1.8.0.zip’\n",
            "\n",
            "libtorch-shared-wit 100%[===================>] 801.38M   147MB/s    in 5.0s    \n",
            "\n",
            "2021-03-18 15:31:36 (160 MB/s) - ‘libtorch-shared-with-deps-1.8.0.zip’ saved [840313163/840313163]\n",
            "\n"
          ],
          "name": "stdout"
        }
      ]
    },
    {
      "cell_type": "code",
      "metadata": {
        "id": "7_y0FocbOubf"
      },
      "source": [
        "!wget http://download.tensorflow.org/data/speech_commands_v0.01.tar.gz\n",
        "!mkdir /content/speech_commands\n",
        "!tar -xf /content/speech_commands_v0.01.tar.gz -C /content/speech_commands"
      ],
      "execution_count": null,
      "outputs": []
    },
    {
      "cell_type": "code",
      "metadata": {
        "colab": {
          "base_uri": "https://localhost:8080/"
        },
        "id": "gG8PGuTrds3n",
        "outputId": "1c26ef51-14bc-49ea-af14-4e0edafc442e"
      },
      "source": [
        "%cd test"
      ],
      "execution_count": null,
      "outputs": [
        {
          "output_type": "stream",
          "text": [
            "/content/test\n"
          ],
          "name": "stdout"
        }
      ]
    },
    {
      "cell_type": "code",
      "metadata": {
        "colab": {
          "base_uri": "https://localhost:8080/"
        },
        "id": "8tV-_BesWzaU",
        "outputId": "6c60e46e-8e50-4d35-fe25-2677c38fa5bb"
      },
      "source": [
        "!make clean\n"
      ],
      "execution_count": null,
      "outputs": [
        {
          "output_type": "stream",
          "text": [
            "rm -f test benchmark ./tests/main.o ./tests/unit_tests.o ./tests/nn_tests.o ./l-tensor/backprop.o ./l-tensor/batchnorm.o ./l-tensor/conv2d.o ./l-tensor/dropout.o ./l-tensor/fully_connected.o ./l-tensor/gru.o ./l-tensor/layers.o ./l-tensor/math_fns.o ./l-tensor/optimizer.o ./l-tensor/tensor.o ./l-tensor/tensorimpl.o ./l-tensor/threadpool2.o ./l-tensor/utils.o ./l-tensor/im_col.cu.o ./l-tensor/math_fns.cu.o ./l-tensor/utils.cu.o libtensor.a ./l-tensor/backprop.d ./l-tensor/batchnorm.d ./l-tensor/conv2d.d ./l-tensor/dropout.d ./l-tensor/fully_connected.d ./l-tensor/gru.d ./l-tensor/layers.d ./l-tensor/math_fns.d ./l-tensor/optimizer.d ./l-tensor/tensor.d ./l-tensor/tensorimpl.d ./l-tensor/threadpool2.d ./l-tensor/utils.d\n"
          ],
          "name": "stdout"
        }
      ]
    },
    {
      "cell_type": "code",
      "metadata": {
        "id": "q2GdZpB832PZ",
        "colab": {
          "base_uri": "https://localhost:8080/"
        },
        "outputId": "494653cc-da7e-4cda-ac12-ab3ca00d25b2"
      },
      "source": [
        "!make"
      ],
      "execution_count": null,
      "outputs": [
        {
          "output_type": "stream",
          "text": [
            "g++ -O2 -D\"USE_CUDA\" -D\"USE_AVX_256 -mavx\" -D\"USE_THREADPOOL\" -D\"USE_MEMORYPOOL\" -D\"USE_OPENBLAS\" -o benchmark-speech-cmds benchmark_speech_commands/main.cpp benchmark_speech_commands/lten.cpp benchmark_speech_commands/libtorch.cpp -O2 -D_GLIBCXX_USE_CXX11_ABI=0 -DUSE_CUDA -std=c++17 -I./l-tensor -I\"/usr/local/cuda-10.1/include/\" -I\"/content/libtorch/include/\" -I\"/content/libtorch/include/torch/csrc/api/include\" -L. -L\"/content/libtorch/lib/\" -L\"/usr/local/cuda-10.1/lib64/\" -ldl -lc10 -lc10_cuda -ltorch_cuda -ltorch_cpu -lpthread -ltensor -lcudart -lcublas -lcurand -lcudnn\n"
          ],
          "name": "stdout"
        }
      ]
    },
    {
      "cell_type": "code",
      "metadata": {
        "id": "mRAImACien1-"
      },
      "source": [
        "!./test /content/train-images-idx3-ubyte /content/train-labels-idx1-ubyte /content/t10k-images-idx3-ubyte /content/t10k-labels-idx1-ubyte -cpu"
      ],
      "execution_count": null,
      "outputs": []
    },
    {
      "cell_type": "code",
      "metadata": {
        "id": "2_AL2pglE9YL"
      },
      "source": [
        "!./test /content/train-images-idx3-ubyte /content/train-labels-idx1-ubyte /content/t10k-images-idx3-ubyte /content/t10k-labels-idx1-ubyte -gpu"
      ],
      "execution_count": null,
      "outputs": []
    },
    {
      "cell_type": "code",
      "metadata": {
        "id": "w8Om4FXQf0Js",
        "colab": {
          "base_uri": "https://localhost:8080/"
        },
        "outputId": "cbcb6552-7931-4fe5-a936-6b359a3b46cb"
      },
      "source": [
        "%env LD_LIBRARY_PATH=/usr/local/nvidia/lib:/usr/local/nvidia/lib64:/content/libtorch/lib"
      ],
      "execution_count": null,
      "outputs": [
        {
          "output_type": "stream",
          "text": [
            "env: LD_LIBRARY_PATH=/usr/local/nvidia/lib:/usr/local/nvidia/lib64:/content/libtorch/lib\n"
          ],
          "name": "stdout"
        }
      ]
    },
    {
      "cell_type": "code",
      "metadata": {
        "id": "KSxaq1-0bPcy"
      },
      "source": [
        "!./benchmark-mnist /content/train-images-idx3-ubyte /content/train-labels-idx1-ubyte /content/t10k-images-idx3-ubyte /content/t10k-labels-idx1-ubyte 20"
      ],
      "execution_count": null,
      "outputs": []
    },
    {
      "cell_type": "code",
      "metadata": {
        "id": "lTE5515wNU4m"
      },
      "source": [
        "!./benchmark-speech-cmds /content/speech_commands/training_list.txt /content/speech_commands/testing_list.txt /content/speech_commands/ /content/speech_commands/ 30"
      ],
      "execution_count": null,
      "outputs": []
    },
    {
      "cell_type": "code",
      "metadata": {
        "id": "jXZtckwuhXmF"
      },
      "source": [
        "!mv /usr/lib/x86_64-linux-gnu/libcudnn.os /usr/lib/x86_64-linux-gnu/libcudnn.so"
      ],
      "execution_count": null,
      "outputs": []
    },
    {
      "cell_type": "code",
      "metadata": {
        "id": "KinT2Wlvkpo4"
      },
      "source": [
        "#!ls /etc/alternatives/libcudnn_so -la\n",
        "!ls /usr/lib/x86_64-linux-gnu/openblas -la"
      ],
      "execution_count": null,
      "outputs": []
    },
    {
      "cell_type": "code",
      "metadata": {
        "id": "jCtnLp0HScuU"
      },
      "source": [
        "!g++ -O2 ./benchmarks/main.cpp ./benchmarks/libtorch.cpp ./benchmarks/sten.cpp -I\"./s-tensor\" -I\"/usr/local/cuda-10.1/include/\" -I\"/content/libtorch/include/\" -I\"/content/libtorch/include/torch/csrc/api/include\" -L\"/content/libtorch/lib/\" -L. -L\"/usr/local/cuda-10.1/lib64/\" -ldl -lc10 -lc10_cuda -ltorch_cuda -ltorch_cpu -lpthread -ltensor -lcudart -lcublas -lcurand -lcudnn -D_GLIBCXX_USE_CXX11_ABI=0 -DUSE_CUDA -std=c++17"
      ],
      "execution_count": null,
      "outputs": []
    },
    {
      "cell_type": "code",
      "metadata": {
        "colab": {
          "base_uri": "https://localhost:8080/"
        },
        "id": "ANdwXvexguGU",
        "outputId": "d5b6f76e-646b-440e-bfc4-0c31afef40c8"
      },
      "source": [
        "!gunzip /content/train-images-idx3-ubyte.gz"
      ],
      "execution_count": null,
      "outputs": [
        {
          "output_type": "stream",
          "text": [
            "gzip: /content/train-images-idx3-ubyte.gz: No such file or directory\n"
          ],
          "name": "stdout"
        }
      ]
    },
    {
      "cell_type": "code",
      "metadata": {
        "colab": {
          "base_uri": "https://localhost:8080/"
        },
        "id": "IdB29griykeN",
        "outputId": "79ec35d7-2562-443a-9a73-40507635a740"
      },
      "source": [
        "%cd .."
      ],
      "execution_count": null,
      "outputs": [
        {
          "output_type": "stream",
          "text": [
            "/content\n"
          ],
          "name": "stdout"
        }
      ]
    },
    {
      "cell_type": "code",
      "metadata": {
        "id": "czF4fOb__Sza"
      },
      "source": [
        "!rm -rf test"
      ],
      "execution_count": null,
      "outputs": []
    },
    {
      "cell_type": "code",
      "metadata": {
        "id": "34o0dWZYT3z7",
        "colab": {
          "base_uri": "https://localhost:8080/"
        },
        "outputId": "c6303572-a86f-4ec3-f99b-b31f3292f8c0"
      },
      "source": [
        "#!pip install torchaudio==0.4.0 torch==1.4.0 comet-ml==3.0.2\n",
        "!pip install torchaudio\n",
        "import os\n",
        "import torch\n",
        "import torchaudio\n",
        "import numpy\n",
        "\n",
        "def load_list(filename):\n",
        "        filepath = filename\n",
        "        with open(filepath) as fileobj:\n",
        "            return [line.strip() for line in fileobj]  \n",
        "\n",
        "#filelist_name=\"/content/speech_commands/training_list.txt\"\n",
        "filelist_name=\"/content/speech_commands/testing_list.txt\"\n",
        "filelist = load_list(filelist_name)\n",
        "num_rows = len(open(filelist_name).readlines())\n",
        "\n",
        "melkwargs = { \"n_fft\" : 512, \"n_mels\" : 80, \"f_min\" : 0, \"f_max\" : None }\n",
        "\n",
        "num_rows = 1\n",
        "for i in range(num_rows):\n",
        "        full_src_path = \"/content/speech_commands/\" + filelist[i]\n",
        "        waveform, sample_rate = torchaudio.load(full_src_path)\n",
        "        mel_specgram = torchaudio.transforms.MFCC(sample_rate=16000, n_mfcc=80, log_mels=True, melkwargs=melkwargs)(waveform)\n",
        "       \n",
        "        audio = mel_specgram[:,:,0:40]\n",
        "\n",
        "        fixed_len_audio = torch.zeros(1, audio.size(1), 40)\n",
        "        fixed_len_audio[:,0:audio.size(1),0:audio.size(2)] = audio[:,:,:]\n",
        "        fixed_len_audio = torch.squeeze(fixed_len_audio, 0)\n",
        "        fixed_len_audio = fixed_len_audio.transpose(1, 0)\n",
        "\n",
        "        binary = fixed_len_audio.numpy()\n",
        "        full_src_path = full_src_path + \".bin\"\n",
        "        binary.tofile(full_src_path)\n",
        "        #torch.save(fixed_len_audio, \"/content/speech_commands/dodo.pt\")\n",
        "        #print(full_src_path)\n"
      ],
      "execution_count": null,
      "outputs": [
        {
          "output_type": "stream",
          "text": [
            "Requirement already satisfied: torchaudio in /usr/local/lib/python3.7/dist-packages (0.8.0)\n",
            "Requirement already satisfied: torch==1.8.0 in /usr/local/lib/python3.7/dist-packages (from torchaudio) (1.8.0+cu101)\n",
            "Requirement already satisfied: numpy in /usr/local/lib/python3.7/dist-packages (from torch==1.8.0->torchaudio) (1.19.5)\n",
            "Requirement already satisfied: typing-extensions in /usr/local/lib/python3.7/dist-packages (from torch==1.8.0->torchaudio) (3.7.4.3)\n"
          ],
          "name": "stdout"
        }
      ]
    },
    {
      "cell_type": "code",
      "metadata": {
        "id": "_hG7iXf6j4-S"
      },
      "source": [
        "!pip install torchaudio==0.4.0 torch==1.4.0"
      ],
      "execution_count": null,
      "outputs": []
    },
    {
      "cell_type": "code",
      "metadata": {
        "id": "6JjZBu1Ayw4q",
        "colab": {
          "base_uri": "https://localhost:8080/"
        },
        "outputId": "e8c40f0e-b7b0-467c-b62f-3ff60dbfae29"
      },
      "source": [
        "#!cp /content/drive/MyDrive/comb.zip .\n",
        "#!unzip comb.zip\n",
        "#!cp /content/speech_commands/*.txt /content/comb\n",
        "#!unzip /content/drive/MyDrive/comb.zip\n",
        "#!wget https://speechcommands.s3-us-west-2.amazonaws.com/speech_commands.zip\n",
        "!nvidia-smi\n"
      ],
      "execution_count": null,
      "outputs": [
        {
          "output_type": "stream",
          "text": [
            "Failed to initialize NVML: Driver/library version mismatch\n"
          ],
          "name": "stdout"
        }
      ]
    }
  ]
}