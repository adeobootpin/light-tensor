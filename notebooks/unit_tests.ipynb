{
  "nbformat": 4,
  "nbformat_minor": 0,
  "metadata": {
    "colab": {
      "name": "unit_tests.ipynb",
      "provenance": [],
      "collapsed_sections": []
    },
    "kernelspec": {
      "name": "python3",
      "display_name": "Python 3"
    },
    "language_info": {
      "name": "python"
    },
    "accelerator": "GPU"
  },
  "cells": [
    {
      "cell_type": "markdown",
      "metadata": {
        "id": "58yvoYji2-VJ"
      },
      "source": [
        "Clone light-tensor repository."
      ]
    },
    {
      "cell_type": "code",
      "metadata": {
        "id": "CE3oiyRjNHbk",
        "colab": {
          "base_uri": "https://localhost:8080/"
        },
        "outputId": "10f4a40a-75e3-4343-8f80-1178e27f8d1f"
      },
      "source": [
        "!git clone https://github.com/adeobootpin/light-tensor.git\n"
      ],
      "execution_count": 1,
      "outputs": [
        {
          "output_type": "stream",
          "text": [
            "Cloning into 'light-tensor'...\n",
            "remote: Enumerating objects: 227, done.\u001b[K\n",
            "remote: Counting objects: 100% (227/227), done.\u001b[K\n",
            "remote: Compressing objects: 100% (196/196), done.\u001b[K\n",
            "remote: Total 227 (delta 125), reused 52 (delta 28), pack-reused 0\u001b[K\n",
            "Receiving objects: 100% (227/227), 172.94 KiB | 6.65 MiB/s, done.\n",
            "Resolving deltas: 100% (125/125), done.\n"
          ],
          "name": "stdout"
        }
      ]
    },
    {
      "cell_type": "markdown",
      "metadata": {
        "id": "EXao3Qng4KEJ"
      },
      "source": [
        "Download MNIST data set. This will be used for training neural networks."
      ]
    },
    {
      "cell_type": "code",
      "metadata": {
        "id": "viTV5cfGNOM5",
        "colab": {
          "base_uri": "https://localhost:8080/"
        },
        "outputId": "18322e0d-6b08-496f-b0b3-ea07d8224098"
      },
      "source": [
        "!wget https://data.deepai.org/mnist.zip\n",
        "!unzip /content/mnist.zip\n",
        "!gunzip /content/train-images-idx3-ubyte.gz\n",
        "!gunzip /content/train-labels-idx1-ubyte.gz\n",
        "!gunzip /content/t10k-images-idx3-ubyte.gz\n",
        "!gunzip /content/t10k-labels-idx1-ubyte.gz"
      ],
      "execution_count": 2,
      "outputs": [
        {
          "output_type": "stream",
          "text": [
            "--2021-03-23 21:44:15--  https://data.deepai.org/mnist.zip\n",
            "Resolving data.deepai.org (data.deepai.org)... 138.201.36.183\n",
            "Connecting to data.deepai.org (data.deepai.org)|138.201.36.183|:443... connected.\n",
            "HTTP request sent, awaiting response... 200 OK\n",
            "Length: 11597176 (11M) [application/x-zip-compressed]\n",
            "Saving to: ‘mnist.zip’\n",
            "\n",
            "mnist.zip           100%[===================>]  11.06M  8.59MB/s    in 1.3s    \n",
            "\n",
            "2021-03-23 21:44:17 (8.59 MB/s) - ‘mnist.zip’ saved [11597176/11597176]\n",
            "\n",
            "Archive:  /content/mnist.zip\n",
            "  inflating: train-labels-idx1-ubyte.gz  \n",
            "  inflating: train-images-idx3-ubyte.gz  \n",
            "  inflating: t10k-images-idx3-ubyte.gz  \n",
            "  inflating: t10k-labels-idx1-ubyte.gz  \n"
          ],
          "name": "stdout"
        }
      ]
    },
    {
      "cell_type": "markdown",
      "metadata": {
        "id": "d2q53r3K5HyY"
      },
      "source": [
        "Change directory to light-tensor folder."
      ]
    },
    {
      "cell_type": "code",
      "metadata": {
        "id": "dhBRAOi-NRoa",
        "colab": {
          "base_uri": "https://localhost:8080/"
        },
        "outputId": "258b0b4a-c122-450e-bd53-a6efc1e8efe2"
      },
      "source": [
        "%cd light-tensor/"
      ],
      "execution_count": 3,
      "outputs": [
        {
          "output_type": "stream",
          "text": [
            "/content/light-tensor\n"
          ],
          "name": "stdout"
        }
      ]
    },
    {
      "cell_type": "markdown",
      "metadata": {
        "id": "jjDDC-PG5Nqy"
      },
      "source": [
        "Build the light-tensor library and unit tests."
      ]
    },
    {
      "cell_type": "code",
      "metadata": {
        "id": "kBMhip1dNU3R",
        "colab": {
          "base_uri": "https://localhost:8080/"
        },
        "outputId": "5d3e02b4-e010-41f5-c448-fcbeca72816c"
      },
      "source": [
        "!make unit-tests"
      ],
      "execution_count": 4,
      "outputs": [
        {
          "output_type": "stream",
          "text": [
            "nvcc l-ten/im_col.cu -c -O2 -D\"USE_CUDA\" -D\"USE_AVX_256\" -D\"USE_THREADPOOL\" -D\"USE_MEMORYPOOL\" -D\"USE_OPENBLAS\" -I\"/usr/local/cuda-10.1/include/\" -o l-ten/im_col.cu.o\n",
            "nvcc l-ten/math_fns.cu -c -O2 -D\"USE_CUDA\" -D\"USE_AVX_256\" -D\"USE_THREADPOOL\" -D\"USE_MEMORYPOOL\" -D\"USE_OPENBLAS\" -I\"/usr/local/cuda-10.1/include/\" -o l-ten/math_fns.cu.o\n",
            "nvcc l-ten/utils.cu -c -O2 -D\"USE_CUDA\" -D\"USE_AVX_256\" -D\"USE_THREADPOOL\" -D\"USE_MEMORYPOOL\" -D\"USE_OPENBLAS\" -I\"/usr/local/cuda-10.1/include/\" -o l-ten/utils.cu.o\n",
            "g++ -I./l-ten -m64 -MMD -O2 -Wno-delete-incomplete -I\"/usr/local/cuda-10.1/include/\" -I\"/content/test/cuda/include/\" -D\"USE_CUDA\" -D\"USE_AVX_256\" -mavx -D\"USE_THREADPOOL\" -D\"USE_MEMORYPOOL\" -D\"USE_OPENBLAS\" -I\"/usr/include/x86_64-linux-gnu/\"   -c -o l-ten/backprop.o l-ten/backprop.cpp\n",
            "g++ -I./l-ten -m64 -MMD -O2 -Wno-delete-incomplete -I\"/usr/local/cuda-10.1/include/\" -I\"/content/test/cuda/include/\" -D\"USE_CUDA\" -D\"USE_AVX_256\" -mavx -D\"USE_THREADPOOL\" -D\"USE_MEMORYPOOL\" -D\"USE_OPENBLAS\" -I\"/usr/include/x86_64-linux-gnu/\"   -c -o l-ten/batchnorm.o l-ten/batchnorm.cpp\n",
            "g++ -I./l-ten -m64 -MMD -O2 -Wno-delete-incomplete -I\"/usr/local/cuda-10.1/include/\" -I\"/content/test/cuda/include/\" -D\"USE_CUDA\" -D\"USE_AVX_256\" -mavx -D\"USE_THREADPOOL\" -D\"USE_MEMORYPOOL\" -D\"USE_OPENBLAS\" -I\"/usr/include/x86_64-linux-gnu/\"   -c -o l-ten/conv2d.o l-ten/conv2d.cpp\n",
            "g++ -I./l-ten -m64 -MMD -O2 -Wno-delete-incomplete -I\"/usr/local/cuda-10.1/include/\" -I\"/content/test/cuda/include/\" -D\"USE_CUDA\" -D\"USE_AVX_256\" -mavx -D\"USE_THREADPOOL\" -D\"USE_MEMORYPOOL\" -D\"USE_OPENBLAS\" -I\"/usr/include/x86_64-linux-gnu/\"   -c -o l-ten/dropout.o l-ten/dropout.cpp\n",
            "g++ -I./l-ten -m64 -MMD -O2 -Wno-delete-incomplete -I\"/usr/local/cuda-10.1/include/\" -I\"/content/test/cuda/include/\" -D\"USE_CUDA\" -D\"USE_AVX_256\" -mavx -D\"USE_THREADPOOL\" -D\"USE_MEMORYPOOL\" -D\"USE_OPENBLAS\" -I\"/usr/include/x86_64-linux-gnu/\"   -c -o l-ten/fully_connected.o l-ten/fully_connected.cpp\n",
            "g++ -I./l-ten -m64 -MMD -O2 -Wno-delete-incomplete -I\"/usr/local/cuda-10.1/include/\" -I\"/content/test/cuda/include/\" -D\"USE_CUDA\" -D\"USE_AVX_256\" -mavx -D\"USE_THREADPOOL\" -D\"USE_MEMORYPOOL\" -D\"USE_OPENBLAS\" -I\"/usr/include/x86_64-linux-gnu/\"   -c -o l-ten/gru.o l-ten/gru.cpp\n",
            "g++ -I./l-ten -m64 -MMD -O2 -Wno-delete-incomplete -I\"/usr/local/cuda-10.1/include/\" -I\"/content/test/cuda/include/\" -D\"USE_CUDA\" -D\"USE_AVX_256\" -mavx -D\"USE_THREADPOOL\" -D\"USE_MEMORYPOOL\" -D\"USE_OPENBLAS\" -I\"/usr/include/x86_64-linux-gnu/\"   -c -o l-ten/layers.o l-ten/layers.cpp\n",
            "g++ -I./l-ten -m64 -MMD -O2 -Wno-delete-incomplete -I\"/usr/local/cuda-10.1/include/\" -I\"/content/test/cuda/include/\" -D\"USE_CUDA\" -D\"USE_AVX_256\" -mavx -D\"USE_THREADPOOL\" -D\"USE_MEMORYPOOL\" -D\"USE_OPENBLAS\" -I\"/usr/include/x86_64-linux-gnu/\"   -c -o l-ten/math_fns.o l-ten/math_fns.cpp\n",
            "g++ -I./l-ten -m64 -MMD -O2 -Wno-delete-incomplete -I\"/usr/local/cuda-10.1/include/\" -I\"/content/test/cuda/include/\" -D\"USE_CUDA\" -D\"USE_AVX_256\" -mavx -D\"USE_THREADPOOL\" -D\"USE_MEMORYPOOL\" -D\"USE_OPENBLAS\" -I\"/usr/include/x86_64-linux-gnu/\"   -c -o l-ten/optimizer.o l-ten/optimizer.cpp\n",
            "g++ -I./l-ten -m64 -MMD -O2 -Wno-delete-incomplete -I\"/usr/local/cuda-10.1/include/\" -I\"/content/test/cuda/include/\" -D\"USE_CUDA\" -D\"USE_AVX_256\" -mavx -D\"USE_THREADPOOL\" -D\"USE_MEMORYPOOL\" -D\"USE_OPENBLAS\" -I\"/usr/include/x86_64-linux-gnu/\"   -c -o l-ten/tensor.o l-ten/tensor.cpp\n",
            "g++ -I./l-ten -m64 -MMD -O2 -Wno-delete-incomplete -I\"/usr/local/cuda-10.1/include/\" -I\"/content/test/cuda/include/\" -D\"USE_CUDA\" -D\"USE_AVX_256\" -mavx -D\"USE_THREADPOOL\" -D\"USE_MEMORYPOOL\" -D\"USE_OPENBLAS\" -I\"/usr/include/x86_64-linux-gnu/\"   -c -o l-ten/tensorimpl.o l-ten/tensorimpl.cpp\n",
            "g++ -I./l-ten -m64 -MMD -O2 -Wno-delete-incomplete -I\"/usr/local/cuda-10.1/include/\" -I\"/content/test/cuda/include/\" -D\"USE_CUDA\" -D\"USE_AVX_256\" -mavx -D\"USE_THREADPOOL\" -D\"USE_MEMORYPOOL\" -D\"USE_OPENBLAS\" -I\"/usr/include/x86_64-linux-gnu/\"   -c -o l-ten/threadpool2.o l-ten/threadpool2.cpp\n",
            "g++ -I./l-ten -m64 -MMD -O2 -Wno-delete-incomplete -I\"/usr/local/cuda-10.1/include/\" -I\"/content/test/cuda/include/\" -D\"USE_CUDA\" -D\"USE_AVX_256\" -mavx -D\"USE_THREADPOOL\" -D\"USE_MEMORYPOOL\" -D\"USE_OPENBLAS\" -I\"/usr/include/x86_64-linux-gnu/\"   -c -o l-ten/utils.o l-ten/utils.cpp\n",
            "ar r libtensor.a l-ten/backprop.o l-ten/batchnorm.o l-ten/conv2d.o l-ten/dropout.o l-ten/fully_connected.o l-ten/gru.o l-ten/layers.o l-ten/math_fns.o l-ten/optimizer.o l-ten/tensor.o l-ten/tensorimpl.o l-ten/threadpool2.o l-ten/utils.o l-ten/im_col.cu.o l-ten/math_fns.cu.o l-ten/utils.cu.o\n",
            "ar: creating libtensor.a\n",
            "ranlib libtensor.a\n",
            "g++ -I./l-ten -m64 -MMD -O2 -Wno-delete-incomplete -I\"/usr/local/cuda-10.1/include/\" -I\"/content/test/cuda/include/\" -D\"USE_CUDA\" -D\"USE_AVX_256\" -mavx -D\"USE_THREADPOOL\" -D\"USE_MEMORYPOOL\" -D\"USE_OPENBLAS\" -I\"/usr/include/x86_64-linux-gnu/\"   -c -o tests/main.o tests/main.cpp\n",
            "g++ -I./l-ten -m64 -MMD -O2 -Wno-delete-incomplete -I\"/usr/local/cuda-10.1/include/\" -I\"/content/test/cuda/include/\" -D\"USE_CUDA\" -D\"USE_AVX_256\" -mavx -D\"USE_THREADPOOL\" -D\"USE_MEMORYPOOL\" -D\"USE_OPENBLAS\" -I\"/usr/include/x86_64-linux-gnu/\"   -c -o tests/unit_tests.o tests/unit_tests.cpp\n",
            "g++ -I./l-ten -m64 -MMD -O2 -Wno-delete-incomplete -I\"/usr/local/cuda-10.1/include/\" -I\"/content/test/cuda/include/\" -D\"USE_CUDA\" -D\"USE_AVX_256\" -mavx -D\"USE_THREADPOOL\" -D\"USE_MEMORYPOOL\" -D\"USE_OPENBLAS\" -I\"/usr/include/x86_64-linux-gnu/\"   -c -o tests/nn_tests.o tests/nn_tests.cpp\n",
            "g++ -I./l-ten -m64 -MMD -O2 -Wno-delete-incomplete -I\"/usr/local/cuda-10.1/include/\" -I\"/content/test/cuda/include/\" -D\"USE_CUDA\" -D\"USE_AVX_256\" -mavx -D\"USE_THREADPOOL\" -D\"USE_MEMORYPOOL\" -D\"USE_OPENBLAS\" -I\"/usr/include/x86_64-linux-gnu/\" -o test tests/main.o tests/unit_tests.o tests/nn_tests.o -Wl,--no-as-needed -ldl -lpthread -lm -lrt -L. -L\"/content/test/cuda/lib64/\" -L\"/usr/local/cuda-10.1/lib64/\" -L\"/usr/local/cuda/lib64/\" -L\"/usr/lib/x86_64-linux-gnu/openblas/\" -ltensor -lcudart -lcublas -lcurand -lcudnn -lblas\n"
          ],
          "name": "stdout"
        }
      ]
    },
    {
      "cell_type": "markdown",
      "metadata": {
        "id": "7lN2ifh85dLX"
      },
      "source": [
        "Run CPU unit tests.\n"
      ]
    },
    {
      "cell_type": "code",
      "metadata": {
        "id": "JQppHU0hNWxg",
        "colab": {
          "base_uri": "https://localhost:8080/"
        },
        "outputId": "8aa5af83-cb2c-42a9-ac7d-f6ba3a06f4dd"
      },
      "source": [
        "!./test /content/train-images-idx3-ubyte /content/train-labels-idx1-ubyte /content/t10k-images-idx3-ubyte /content/t10k-labels-idx1-ubyte -cpu"
      ],
      "execution_count": 5,
      "outputs": [
        {
          "output_type": "stream",
          "text": [
            "running unit tests on CPU\n",
            "tensor addition test 1 passed\n",
            "tensor addition test 2 passed\n",
            "tensor subtraction test 1 passed\n",
            "tensor subtraction test 2 passed\n",
            "tensor uint8 subtraction test 1 passed\n",
            "tensor uint8 subtraction test 2 passed\n",
            "tensor element-wise multiplication test 1 passed\n",
            "tensor element-wise multiplication test 2 passed\n",
            "tensor int32 element-wise multiplication test 2 passed\n",
            "tensor division test 1 passed\n",
            "tensor division test 2 passed\n",
            "tensor matrix-multiplication test passed\n",
            "tensor exp test passed\n",
            "tensor log test passed\n",
            "tensor sigmoid test passed\n",
            "tensor tanh test passed\n",
            "tensor scalar multiplication test passed\n",
            "tensor sum test passed\n",
            "tensor fully-connected layer passed\n",
            "\n",
            "training regression model on CPU...\n",
            "  loss: 814.172729\n",
            "  loss: 612.945007\n",
            "  loss: 388.592651\n",
            "  loss: 440.972290\n",
            "  loss: 225.479431\n",
            "  loss: 159.348282\n",
            "  loss: 34.177979\n",
            "  loss: 41.624088\n",
            "  loss: 18.348827\n",
            "  loss: 26.331608\n",
            "  loss: 25.074738\n",
            "  loss: 16.545349\n",
            "  loss: 0.626835\n",
            "  loss: 0.002248\n",
            "  loss: 0.000872\n",
            "  loss: 0.000810\n",
            "training regression model passed\n",
            "\n",
            "training MNIST model on CPU for 1 epoch(s)...\n",
            "  loss: 2.328300 [0% completed]\n",
            "  loss: 1.951074 [10% completed]\n",
            "  loss: 1.740197 [21% completed]\n",
            "  loss: 1.171070 [32% completed]\n",
            "  loss: 0.981079 [42% completed]\n",
            "  loss: 1.030225 [53% completed]\n",
            "  loss: 0.756899 [64% completed]\n",
            "  loss: 0.715513 [74% completed]\n",
            "  loss: 0.669604 [85% completed]\n",
            "  loss: 0.513049 [96% completed]\n",
            "  loss: 0.501286 [100% completed]\n",
            "running inference...\n",
            "score: 8737/10000 [87.370003%]\n",
            "training MNIST model passed\n",
            "\n",
            "running quantization test...\n",
            "training FP32 MNIST model on CPU for 1000 iterations\n",
            "  loss: 2.261415 [0% completed]\n",
            "  loss: 2.048420 [10% completed]\n",
            "  loss: 1.743102 [20% completed]\n",
            "  loss: 1.622959 [30% completed]\n",
            "  loss: 1.535218 [40% completed]\n",
            "  loss: 1.432999 [50% completed]\n",
            "  loss: 0.970265 [60% completed]\n",
            "  loss: 0.964826 [70% completed]\n",
            "  loss: 0.715299 [80% completed]\n",
            "  loss: 0.626839 [90% completed]\n",
            "  loss: 0.735968 [100% completed]\n",
            "\n",
            "training FP32 MNIST model completed\n",
            "quantizing FP32 MNIST model for UINT8 inference\n",
            "running inference...\n",
            "score [fp32]: 8408/10000 [84.080002%]\n",
            "score [uint8]: 8388/10000 [83.879997%]\n",
            "quantization test passed\n",
            "\n",
            "------------\n",
            "Total : 22\n",
            "Passed: 22\n",
            "Failed: 0\n",
            "------------\n"
          ],
          "name": "stdout"
        }
      ]
    },
    {
      "cell_type": "markdown",
      "metadata": {
        "id": "Aiy_-QY75p8o"
      },
      "source": [
        "Run GPU unit tests.  Remember to ensure that your notebook runtime type is set to \"GPU\"."
      ]
    },
    {
      "cell_type": "code",
      "metadata": {
        "id": "eGIqxR2JNa4R",
        "colab": {
          "base_uri": "https://localhost:8080/"
        },
        "outputId": "10c2aa7c-befc-46c1-e7de-a3507a4d7df7"
      },
      "source": [
        "!./test /content/train-images-idx3-ubyte /content/train-labels-idx1-ubyte /content/t10k-images-idx3-ubyte /content/t10k-labels-idx1-ubyte -gpu"
      ],
      "execution_count": 5,
      "outputs": [
        {
          "output_type": "stream",
          "text": [
            "running unit tests on GPU\n",
            "tensor addition test 1 passed\n",
            "tensor addition test 2 passed\n",
            "tensor subtraction test 1 passed\n",
            "tensor subtraction test 2 passed\n",
            "tensor uint8 subtraction test 1 passed\n",
            "tensor uint8 subtraction test 2 passed\n",
            "tensor element-wise multiplication test 1 passed\n",
            "tensor element-wise multiplication test 2 passed\n",
            "tensor int32 element-wise multiplication test 2 passed\n",
            "tensor division test 1 passed\n",
            "tensor division test 2 passed\n",
            "tensor matrix-multiplication test passed\n",
            "tensor exp test passed\n",
            "tensor log test passed\n",
            "tensor sigmoid test passed\n",
            "tensor tanh test passed\n",
            "tensor scalar multiplication test passed\n",
            "tensor sum test passed\n",
            "tensor fully-connected layer passed\n",
            "\n",
            "training MNIST model on GPU for 1 epoch(s)...\n",
            "  loss: 2.363963 [0% completed]\n",
            "  loss: 0.840198 [10% completed]\n",
            "  loss: 0.503510 [21% completed]\n",
            "  loss: 0.515692 [32% completed]\n",
            "  loss: 0.429893 [42% completed]\n",
            "  loss: 0.646547 [53% completed]\n",
            "  loss: 0.404857 [64% completed]\n",
            "  loss: 0.465063 [74% completed]\n",
            "  loss: 0.421451 [85% completed]\n",
            "  loss: 0.365076 [96% completed]\n",
            "  loss: 0.223969 [100% completed]\n",
            "running inference...\n",
            "score: 9121/10000 [91.209999%]\n",
            "training MNIST model passed\n",
            "\n",
            "------------\n",
            "Total : 20\n",
            "Passed: 20\n",
            "Failed: 0\n",
            "------------\n"
          ],
          "name": "stdout"
        }
      ]
    }
  ]
}