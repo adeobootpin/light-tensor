{
  "nbformat": 4,
  "nbformat_minor": 0,
  "metadata": {
    "colab": {
      "name": "benchmarks.ipynb",
      "provenance": [],
      "collapsed_sections": []
    },
    "kernelspec": {
      "name": "python3",
      "display_name": "Python 3"
    },
    "language_info": {
      "name": "python"
    }
  },
  "cells": [
    {
      "cell_type": "markdown",
      "metadata": {
        "id": "58yvoYji2-VJ"
      },
      "source": [
        "Clone light-tensor repository."
      ]
    },
    {
      "cell_type": "code",
      "metadata": {
        "id": "CE3oiyRjNHbk",
        "colab": {
          "base_uri": "https://localhost:8080/"
        },
        "outputId": "699ee7bc-7b8d-4147-b39b-407e042aacb2"
      },
      "source": [
        "!git clone https://github.com/adeobootpin/light-tensor.git\n"
      ],
      "execution_count": 1,
      "outputs": [
        {
          "output_type": "stream",
          "text": [
            "Cloning into 'light-tensor'...\n",
            "remote: Enumerating objects: 227, done.\u001b[K\n",
            "remote: Counting objects: 100% (227/227), done.\u001b[K\n",
            "remote: Compressing objects: 100% (196/196), done.\u001b[K\n",
            "remote: Total 227 (delta 125), reused 52 (delta 28), pack-reused 0\u001b[K\n",
            "Receiving objects: 100% (227/227), 172.94 KiB | 5.96 MiB/s, done.\n",
            "Resolving deltas: 100% (125/125), done.\n"
          ],
          "name": "stdout"
        }
      ]
    },
    {
      "cell_type": "markdown",
      "metadata": {
        "id": "EXao3Qng4KEJ"
      },
      "source": [
        "Download MNIST data set. This will be used for training neural networks."
      ]
    },
    {
      "cell_type": "code",
      "metadata": {
        "id": "viTV5cfGNOM5",
        "colab": {
          "base_uri": "https://localhost:8080/"
        },
        "outputId": "cf481983-aef4-4c96-b3f1-820d0252cf25"
      },
      "source": [
        "!wget https://data.deepai.org/mnist.zip\n",
        "!unzip /content/mnist.zip\n",
        "!gunzip /content/train-images-idx3-ubyte.gz\n",
        "!gunzip /content/train-labels-idx1-ubyte.gz\n",
        "!gunzip /content/t10k-images-idx3-ubyte.gz\n",
        "!gunzip /content/t10k-labels-idx1-ubyte.gz"
      ],
      "execution_count": 2,
      "outputs": [
        {
          "output_type": "stream",
          "text": [
            "--2021-03-23 21:59:32--  https://data.deepai.org/mnist.zip\n",
            "Resolving data.deepai.org (data.deepai.org)... 138.201.36.183\n",
            "Connecting to data.deepai.org (data.deepai.org)|138.201.36.183|:443... connected.\n",
            "HTTP request sent, awaiting response... 200 OK\n",
            "Length: 11597176 (11M) [application/x-zip-compressed]\n",
            "Saving to: ‘mnist.zip’\n",
            "\n",
            "mnist.zip           100%[===================>]  11.06M  8.54MB/s    in 1.3s    \n",
            "\n",
            "2021-03-23 21:59:34 (8.54 MB/s) - ‘mnist.zip’ saved [11597176/11597176]\n",
            "\n",
            "Archive:  /content/mnist.zip\n",
            "  inflating: train-labels-idx1-ubyte.gz  \n",
            "  inflating: train-images-idx3-ubyte.gz  \n",
            "  inflating: t10k-images-idx3-ubyte.gz  \n",
            "  inflating: t10k-labels-idx1-ubyte.gz  \n"
          ],
          "name": "stdout"
        }
      ]
    },
    {
      "cell_type": "markdown",
      "metadata": {
        "id": "ufCEO6ThEplW"
      },
      "source": [
        "Download Google speech command data set (already pre-processed and converted to spectrograms). This will be used for training neural networks."
      ]
    },
    {
      "cell_type": "code",
      "metadata": {
        "id": "L4z-wP2QEwM6",
        "colab": {
          "base_uri": "https://localhost:8080/"
        },
        "outputId": "adfb80a8-47e8-4ba5-e655-7f1d5f101a3c"
      },
      "source": [
        "!wget https://speechcommands.s3-us-west-2.amazonaws.com/speech_commands.zip\n",
        "!unzip -q /content/speech_commands.zip"
      ],
      "execution_count": 3,
      "outputs": [
        {
          "output_type": "stream",
          "text": [
            "--2021-03-23 21:59:44--  https://speechcommands.s3-us-west-2.amazonaws.com/speech_commands.zip\n",
            "Resolving speechcommands.s3-us-west-2.amazonaws.com (speechcommands.s3-us-west-2.amazonaws.com)... 52.218.225.73\n",
            "Connecting to speechcommands.s3-us-west-2.amazonaws.com (speechcommands.s3-us-west-2.amazonaws.com)|52.218.225.73|:443... connected.\n",
            "HTTP request sent, awaiting response... 200 OK\n",
            "Length: 639457153 (610M) [application/zip]\n",
            "Saving to: ‘speech_commands.zip’\n",
            "\n",
            "speech_commands.zip 100%[===================>] 609.83M  65.8MB/s    in 8.8s    \n",
            "\n",
            "2021-03-23 21:59:52 (69.6 MB/s) - ‘speech_commands.zip’ saved [639457153/639457153]\n",
            "\n"
          ],
          "name": "stdout"
        }
      ]
    },
    {
      "cell_type": "markdown",
      "metadata": {
        "id": "GKWQftHUFnrw"
      },
      "source": [
        "Download libtorch library."
      ]
    },
    {
      "cell_type": "code",
      "metadata": {
        "colab": {
          "base_uri": "https://localhost:8080/"
        },
        "id": "et8VHq2RFlmO",
        "outputId": "ce8b249f-2366-494b-e13d-e38eb89289a2"
      },
      "source": [
        "!wget https://download.pytorch.org/libtorch/cu102/libtorch-shared-with-deps-1.8.0.zip\n",
        "!unzip -q /content/libtorch-shared-with-deps-1.8.0.zip"
      ],
      "execution_count": 4,
      "outputs": [
        {
          "output_type": "stream",
          "text": [
            "--2021-03-23 22:00:04--  https://download.pytorch.org/libtorch/cu102/libtorch-shared-with-deps-1.8.0.zip\n",
            "Resolving download.pytorch.org (download.pytorch.org)... 99.86.38.106, 99.86.38.37, 99.86.38.72, ...\n",
            "Connecting to download.pytorch.org (download.pytorch.org)|99.86.38.106|:443... connected.\n",
            "HTTP request sent, awaiting response... 200 OK\n",
            "Length: 840313163 (801M) [application/zip]\n",
            "Saving to: ‘libtorch-shared-with-deps-1.8.0.zip’\n",
            "\n",
            "libtorch-shared-wit 100%[===================>] 801.38M   101MB/s    in 6.4s    \n",
            "\n",
            "2021-03-23 22:00:11 (125 MB/s) - ‘libtorch-shared-with-deps-1.8.0.zip’ saved [840313163/840313163]\n",
            "\n"
          ],
          "name": "stdout"
        }
      ]
    },
    {
      "cell_type": "markdown",
      "metadata": {
        "id": "vfo5kAaMGGOv"
      },
      "source": [
        "Add libtorch library to library search path."
      ]
    },
    {
      "cell_type": "code",
      "metadata": {
        "colab": {
          "base_uri": "https://localhost:8080/"
        },
        "id": "nNwtGQiBGEfq",
        "outputId": "521c811f-02bc-4d94-f9a0-ee438346b503"
      },
      "source": [
        "%env LD_LIBRARY_PATH=/usr/local/nvidia/lib:/usr/local/nvidia/lib64:/content/libtorch/lib"
      ],
      "execution_count": 5,
      "outputs": [
        {
          "output_type": "stream",
          "text": [
            "env: LD_LIBRARY_PATH=/usr/local/nvidia/lib:/usr/local/nvidia/lib64:/content/libtorch/lib\n"
          ],
          "name": "stdout"
        }
      ]
    },
    {
      "cell_type": "markdown",
      "metadata": {
        "id": "d2q53r3K5HyY"
      },
      "source": [
        "Change directory to light-tensor folder."
      ]
    },
    {
      "cell_type": "code",
      "metadata": {
        "id": "dhBRAOi-NRoa",
        "colab": {
          "base_uri": "https://localhost:8080/"
        },
        "outputId": "e2472061-a450-4104-d614-7f146ac0a3af"
      },
      "source": [
        "%cd light-tensor/"
      ],
      "execution_count": 6,
      "outputs": [
        {
          "output_type": "stream",
          "text": [
            "/content/light-tensor\n"
          ],
          "name": "stdout"
        }
      ]
    },
    {
      "cell_type": "markdown",
      "metadata": {
        "id": "jjDDC-PG5Nqy"
      },
      "source": [
        "Build the light-tensor library and benchmarks."
      ]
    },
    {
      "cell_type": "code",
      "metadata": {
        "id": "kBMhip1dNU3R"
      },
      "source": [
        "!make benchmarks"
      ],
      "execution_count": null,
      "outputs": []
    },
    {
      "cell_type": "markdown",
      "metadata": {
        "id": "7lN2ifh85dLX"
      },
      "source": [
        "Run MNIST comparison (libtorch vs light-tensor). Remember to ensure that your notebook runtime type is set to \"GPU\".\n"
      ]
    },
    {
      "cell_type": "code",
      "metadata": {
        "id": "JQppHU0hNWxg",
        "colab": {
          "base_uri": "https://localhost:8080/"
        },
        "outputId": "cc37af41-04ee-45e3-affb-7830a2c9e94c"
      },
      "source": [
        "!./benchmark-mnist /content/train-images-idx3-ubyte /content/train-labels-idx1-ubyte /content/t10k-images-idx3-ubyte /content/t10k-labels-idx1-ubyte 20"
      ],
      "execution_count": 8,
      "outputs": [
        {
          "output_type": "stream",
          "text": [
            "MNIST training using libtorch library (20 epoch(s))...\n",
            "  loss: 2.326595 [0% completed]\n",
            "  loss: 0.152032 [5% completed]\n",
            "  loss: 0.106846 [10% completed]\n",
            "  loss: 0.064569 [15% completed]\n",
            "  loss: 0.055631 [21% completed]\n",
            "  loss: 0.089053 [26% completed]\n",
            "  loss: 0.121359 [31% completed]\n",
            "  loss: 0.049737 [37% completed]\n",
            "  loss: 0.055158 [42% completed]\n",
            "  loss: 0.024925 [47% completed]\n",
            "  loss: 0.035267 [53% completed]\n",
            "  loss: 0.186869 [58% completed]\n",
            "  loss: 0.007723 [63% completed]\n",
            "  loss: 0.003842 [69% completed]\n",
            "  loss: 0.009567 [74% completed]\n",
            "  loss: 0.004110 [79% completed]\n",
            "  loss: 0.001811 [85% completed]\n",
            "  loss: 0.040433 [90% completed]\n",
            "  loss: 0.020860 [95% completed]\n",
            "  loss: 0.000387 [100% completed]\n",
            "training completed [duration: 24.334876 sec]\n",
            "running inference...\n",
            "inference completed [duration: 2.027293 sec]\n",
            "score: 98.419998% [9842/10000]\n",
            "\n",
            "MNIST training using l-ten library (20 epoch(s))...\n",
            "  loss: 2.299319 [0% completed]\n",
            "  loss: 0.282249 [5% completed]\n",
            "  loss: 0.038412 [10% completed]\n",
            "  loss: 0.062168 [15% completed]\n",
            "  loss: 0.036689 [21% completed]\n",
            "  loss: 0.051865 [26% completed]\n",
            "  loss: 0.049903 [31% completed]\n",
            "  loss: 0.008552 [37% completed]\n",
            "  loss: 0.113976 [42% completed]\n",
            "  loss: 0.040644 [47% completed]\n",
            "  loss: 0.013278 [53% completed]\n",
            "  loss: 0.017089 [58% completed]\n",
            "  loss: 0.004765 [63% completed]\n",
            "  loss: 0.005466 [69% completed]\n",
            "  loss: 0.004450 [74% completed]\n",
            "  loss: 0.030169 [79% completed]\n",
            "  loss: 0.001559 [85% completed]\n",
            "  loss: 0.023613 [90% completed]\n",
            "  loss: 0.004598 [95% completed]\n",
            "  loss: 0.006856 [100% completed]\n",
            "training completed [duration: 19.350300 sec]\n",
            "running inference...\n",
            "inference completed [duration: 0.490217 sec]\n",
            "score: 98.440002% [9844/10000]\n",
            "\n"
          ],
          "name": "stdout"
        }
      ]
    },
    {
      "cell_type": "markdown",
      "metadata": {
        "id": "NczYPHcOGcCe"
      },
      "source": [
        "Run speech commands comparison (libtorch vs light-tensor). Remember to ensure that your notebook runtime type is set to \"GPU\"."
      ]
    },
    {
      "cell_type": "code",
      "metadata": {
        "id": "YFO7SjGcGwej",
        "colab": {
          "base_uri": "https://localhost:8080/"
        },
        "outputId": "b16eefa5-5c1a-4c75-ebef-3cfda8c2a07e"
      },
      "source": [
        "!./benchmark-speech-cmds /content/speech_commands/training_list.txt /content/speech_commands/testing_list.txt /content/speech_commands/ /content/speech_commands/ 30"
      ],
      "execution_count": 9,
      "outputs": [
        {
          "output_type": "stream",
          "text": [
            "loading speech commands data set...\n",
            "done [trainig examples: 45930 test examples: 6835]\n",
            "\n",
            "speech commands training using libtorch library (30 epoch(s))...\n",
            "  loss: 3.425915 [0% completed]\n",
            "  loss: 0.739516 [4% completed]\n",
            "  loss: 0.376002 [9% completed]\n",
            "  loss: 0.095451 [13% completed]\n",
            "  loss: 0.269755 [18% completed]\n",
            "  loss: 0.353809 [23% completed]\n",
            "  loss: 0.100420 [27% completed]\n",
            "  loss: 0.111878 [32% completed]\n",
            "  loss: 0.151675 [37% completed]\n",
            "  loss: 0.407518 [41% completed]\n",
            "  loss: 0.060214 [46% completed]\n",
            "  loss: 0.095251 [51% completed]\n",
            "  loss: 0.043725 [55% completed]\n",
            "  loss: 0.044248 [60% completed]\n",
            "  loss: 0.038467 [64% completed]\n",
            "  loss: 0.037112 [69% completed]\n",
            "  loss: 0.013142 [74% completed]\n",
            "  loss: 0.057241 [78% completed]\n",
            "  loss: 0.049520 [83% completed]\n",
            "  loss: 0.054755 [88% completed]\n",
            "  loss: 0.017824 [92% completed]\n",
            "  loss: 0.013624 [97% completed]\n",
            "  loss: 0.104837 [100% completed]\n",
            "training completed [duration: 135.565846 sec]\n",
            "running inference...\n",
            "inference completed [duration: 7.790382 sec]\n",
            "score: 78.215073% [5346/6835]\n",
            "\n",
            "speech commands training using l-ten library (30 epoch(s))...\n",
            "  loss: 3.412652 [0% completed]\n",
            "  loss: 0.691567 [4% completed]\n",
            "  loss: 0.383396 [9% completed]\n",
            "  loss: 0.300766 [13% completed]\n",
            "  loss: 0.431055 [18% completed]\n",
            "  loss: 0.428221 [23% completed]\n",
            "  loss: 0.201197 [27% completed]\n",
            "  loss: 0.276275 [32% completed]\n",
            "  loss: 0.198797 [37% completed]\n",
            "  loss: 0.227109 [41% completed]\n",
            "  loss: 0.341934 [46% completed]\n",
            "  loss: 0.077905 [51% completed]\n",
            "  loss: 0.046118 [55% completed]\n",
            "  loss: 0.149118 [60% completed]\n",
            "  loss: 0.041252 [64% completed]\n",
            "  loss: 0.173343 [69% completed]\n",
            "  loss: 0.115419 [74% completed]\n",
            "  loss: 0.121716 [78% completed]\n",
            "  loss: 0.143445 [83% completed]\n",
            "  loss: 0.259112 [88% completed]\n",
            "  loss: 0.062381 [92% completed]\n",
            "  loss: 0.065503 [97% completed]\n",
            "  loss: 0.039499 [100% completed]\n",
            "training completed [duration: 119.494362 sec]\n",
            "running inference...\n",
            "inference completed [duration: 4.813282 sec]\n",
            "score: 79.341621% [5423/6835]\n",
            "\n"
          ],
          "name": "stdout"
        }
      ]
    }
  ]
}